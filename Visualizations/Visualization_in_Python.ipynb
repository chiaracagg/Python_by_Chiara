{
 "cells": [
  {
   "cell_type": "markdown",
   "id": "441b09c9",
   "metadata": {
    "colab_type": "text",
    "id": "view-in-github"
   },
   "source": [
    "<a href=\"https://colab.research.google.com/gist/chiaracagg/48373051362b649d0bbb1efb31c2860d/lab-visualization.ipynb\" target=\"_parent\"><img src=\"https://colab.research.google.com/assets/colab-badge.svg\" alt=\"Open In Colab\"/></a>"
   ]
  },
  {
   "cell_type": "markdown",
   "id": "98f4ef6b",
   "metadata": {
    "id": "98f4ef6b"
   },
   "source": [
    "## Creating Visualizations in Python\n"
   ]
  },
  {
   "cell_type": "markdown",
   "id": "7fa453c8",
   "metadata": {
    "id": "7fa453c8"
   },
   "source": [
    "### Chiara Caggiano"
   ]
  },
  {
   "cell_type": "code",
   "execution_count": null,
   "id": "ccc7b1be",
   "metadata": {
    "id": "ccc7b1be"
   },
   "outputs": [],
   "source": [
    "#importing necessary libraries\n",
    "import matplotlib.pyplot as plt\n",
    "import pandas as pd\n",
    "import numpy as np"
   ]
  },
  {
   "cell_type": "code",
   "execution_count": null,
   "id": "cbe8337d",
   "metadata": {
    "id": "cbe8337d",
    "outputId": "d7f09463-9c35-4d3a-846a-ea032e0c73d3"
   },
   "outputs": [
    {
     "data": {
      "text/html": [
       "<div>\n",
       "<style scoped>\n",
       "    .dataframe tbody tr th:only-of-type {\n",
       "        vertical-align: middle;\n",
       "    }\n",
       "\n",
       "    .dataframe tbody tr th {\n",
       "        vertical-align: top;\n",
       "    }\n",
       "\n",
       "    .dataframe thead th {\n",
       "        text-align: right;\n",
       "    }\n",
       "</style>\n",
       "<table border=\"1\" class=\"dataframe\">\n",
       "  <thead>\n",
       "    <tr style=\"text-align: right;\">\n",
       "      <th></th>\n",
       "      <th>manufact</th>\n",
       "      <th>model</th>\n",
       "      <th>sales</th>\n",
       "      <th>resale</th>\n",
       "      <th>price</th>\n",
       "      <th>engine_s</th>\n",
       "      <th>horsepow</th>\n",
       "      <th>wheelbas</th>\n",
       "      <th>width</th>\n",
       "      <th>length</th>\n",
       "      <th>curb_wgt</th>\n",
       "      <th>fuel_cap</th>\n",
       "      <th>mpg</th>\n",
       "      <th>country</th>\n",
       "    </tr>\n",
       "  </thead>\n",
       "  <tbody>\n",
       "    <tr>\n",
       "      <th>0</th>\n",
       "      <td>Acura</td>\n",
       "      <td>Integra</td>\n",
       "      <td>16.92</td>\n",
       "      <td>16.360</td>\n",
       "      <td>21.5</td>\n",
       "      <td>1.8</td>\n",
       "      <td>140</td>\n",
       "      <td>101.2</td>\n",
       "      <td>67.3</td>\n",
       "      <td>172.4</td>\n",
       "      <td>2.639</td>\n",
       "      <td>13.2</td>\n",
       "      <td>28.0</td>\n",
       "      <td>Japan</td>\n",
       "    </tr>\n",
       "    <tr>\n",
       "      <th>1</th>\n",
       "      <td>Acura</td>\n",
       "      <td>TL</td>\n",
       "      <td>39.38</td>\n",
       "      <td>19.875</td>\n",
       "      <td>28.4</td>\n",
       "      <td>3.2</td>\n",
       "      <td>225</td>\n",
       "      <td>108.1</td>\n",
       "      <td>70.3</td>\n",
       "      <td>192.9</td>\n",
       "      <td>3.517</td>\n",
       "      <td>17.2</td>\n",
       "      <td>25.0</td>\n",
       "      <td>Japan</td>\n",
       "    </tr>\n",
       "    <tr>\n",
       "      <th>2</th>\n",
       "      <td>Acura</td>\n",
       "      <td>CL</td>\n",
       "      <td>14.11</td>\n",
       "      <td>18.225</td>\n",
       "      <td>NaN</td>\n",
       "      <td>3.2</td>\n",
       "      <td>225</td>\n",
       "      <td>106.9</td>\n",
       "      <td>70.6</td>\n",
       "      <td>192.0</td>\n",
       "      <td>3.470</td>\n",
       "      <td>17.2</td>\n",
       "      <td>26.0</td>\n",
       "      <td>Japan</td>\n",
       "    </tr>\n",
       "    <tr>\n",
       "      <th>3</th>\n",
       "      <td>Acura</td>\n",
       "      <td>RL</td>\n",
       "      <td>8.59</td>\n",
       "      <td>29.725</td>\n",
       "      <td>42.0</td>\n",
       "      <td>3.5</td>\n",
       "      <td>210</td>\n",
       "      <td>114.6</td>\n",
       "      <td>71.4</td>\n",
       "      <td>196.6</td>\n",
       "      <td>3.850</td>\n",
       "      <td>18.0</td>\n",
       "      <td>22.0</td>\n",
       "      <td>Japan</td>\n",
       "    </tr>\n",
       "    <tr>\n",
       "      <th>4</th>\n",
       "      <td>Cadillac</td>\n",
       "      <td>DeVille</td>\n",
       "      <td>63.73</td>\n",
       "      <td>22.525</td>\n",
       "      <td>39.9</td>\n",
       "      <td>4.6</td>\n",
       "      <td>275</td>\n",
       "      <td>115.3</td>\n",
       "      <td>74.5</td>\n",
       "      <td>207.2</td>\n",
       "      <td>3.978</td>\n",
       "      <td>18.5</td>\n",
       "      <td>22.0</td>\n",
       "      <td>United States</td>\n",
       "    </tr>\n",
       "    <tr>\n",
       "      <th>...</th>\n",
       "      <td>...</td>\n",
       "      <td>...</td>\n",
       "      <td>...</td>\n",
       "      <td>...</td>\n",
       "      <td>...</td>\n",
       "      <td>...</td>\n",
       "      <td>...</td>\n",
       "      <td>...</td>\n",
       "      <td>...</td>\n",
       "      <td>...</td>\n",
       "      <td>...</td>\n",
       "      <td>...</td>\n",
       "      <td>...</td>\n",
       "      <td>...</td>\n",
       "    </tr>\n",
       "    <tr>\n",
       "      <th>108</th>\n",
       "      <td>Volvo</td>\n",
       "      <td>V40</td>\n",
       "      <td>3.55</td>\n",
       "      <td>NaN</td>\n",
       "      <td>24.4</td>\n",
       "      <td>1.9</td>\n",
       "      <td>160</td>\n",
       "      <td>100.5</td>\n",
       "      <td>67.6</td>\n",
       "      <td>176.6</td>\n",
       "      <td>3.042</td>\n",
       "      <td>15.8</td>\n",
       "      <td>25.0</td>\n",
       "      <td>Sweden</td>\n",
       "    </tr>\n",
       "    <tr>\n",
       "      <th>109</th>\n",
       "      <td>Volvo</td>\n",
       "      <td>S70</td>\n",
       "      <td>15.25</td>\n",
       "      <td>NaN</td>\n",
       "      <td>27.5</td>\n",
       "      <td>2.4</td>\n",
       "      <td>168</td>\n",
       "      <td>104.9</td>\n",
       "      <td>69.3</td>\n",
       "      <td>185.9</td>\n",
       "      <td>3.208</td>\n",
       "      <td>17.9</td>\n",
       "      <td>25.0</td>\n",
       "      <td>Sweden</td>\n",
       "    </tr>\n",
       "    <tr>\n",
       "      <th>110</th>\n",
       "      <td>Volvo</td>\n",
       "      <td>V70</td>\n",
       "      <td>17.53</td>\n",
       "      <td>NaN</td>\n",
       "      <td>28.8</td>\n",
       "      <td>2.4</td>\n",
       "      <td>168</td>\n",
       "      <td>104.9</td>\n",
       "      <td>69.3</td>\n",
       "      <td>186.2</td>\n",
       "      <td>3.259</td>\n",
       "      <td>17.9</td>\n",
       "      <td>25.0</td>\n",
       "      <td>Sweden</td>\n",
       "    </tr>\n",
       "    <tr>\n",
       "      <th>111</th>\n",
       "      <td>Volvo</td>\n",
       "      <td>C70</td>\n",
       "      <td>3.49</td>\n",
       "      <td>NaN</td>\n",
       "      <td>45.5</td>\n",
       "      <td>2.3</td>\n",
       "      <td>236</td>\n",
       "      <td>104.9</td>\n",
       "      <td>71.5</td>\n",
       "      <td>185.7</td>\n",
       "      <td>3.601</td>\n",
       "      <td>18.5</td>\n",
       "      <td>23.0</td>\n",
       "      <td>Sweden</td>\n",
       "    </tr>\n",
       "    <tr>\n",
       "      <th>112</th>\n",
       "      <td>Volvo</td>\n",
       "      <td>S80</td>\n",
       "      <td>18.97</td>\n",
       "      <td>NaN</td>\n",
       "      <td>36.0</td>\n",
       "      <td>2.9</td>\n",
       "      <td>201</td>\n",
       "      <td>109.9</td>\n",
       "      <td>72.1</td>\n",
       "      <td>189.8</td>\n",
       "      <td>3.600</td>\n",
       "      <td>21.1</td>\n",
       "      <td>24.0</td>\n",
       "      <td>Sweden</td>\n",
       "    </tr>\n",
       "  </tbody>\n",
       "</table>\n",
       "<p>113 rows × 14 columns</p>\n",
       "</div>"
      ],
      "text/plain": [
       "     manufact    model  sales  resale  price  engine_s  horsepow  wheelbas  \\\n",
       "0       Acura  Integra  16.92  16.360   21.5       1.8       140     101.2   \n",
       "1       Acura       TL  39.38  19.875   28.4       3.2       225     108.1   \n",
       "2       Acura       CL  14.11  18.225    NaN       3.2       225     106.9   \n",
       "3       Acura       RL   8.59  29.725   42.0       3.5       210     114.6   \n",
       "4    Cadillac  DeVille  63.73  22.525   39.9       4.6       275     115.3   \n",
       "..        ...      ...    ...     ...    ...       ...       ...       ...   \n",
       "108     Volvo      V40   3.55     NaN   24.4       1.9       160     100.5   \n",
       "109     Volvo      S70  15.25     NaN   27.5       2.4       168     104.9   \n",
       "110     Volvo      V70  17.53     NaN   28.8       2.4       168     104.9   \n",
       "111     Volvo      C70   3.49     NaN   45.5       2.3       236     104.9   \n",
       "112     Volvo      S80  18.97     NaN   36.0       2.9       201     109.9   \n",
       "\n",
       "     width  length  curb_wgt  fuel_cap   mpg        country  \n",
       "0     67.3   172.4     2.639      13.2  28.0          Japan  \n",
       "1     70.3   192.9     3.517      17.2  25.0          Japan  \n",
       "2     70.6   192.0     3.470      17.2  26.0          Japan  \n",
       "3     71.4   196.6     3.850      18.0  22.0          Japan  \n",
       "4     74.5   207.2     3.978      18.5  22.0  United States  \n",
       "..     ...     ...       ...       ...   ...            ...  \n",
       "108   67.6   176.6     3.042      15.8  25.0         Sweden  \n",
       "109   69.3   185.9     3.208      17.9  25.0         Sweden  \n",
       "110   69.3   186.2     3.259      17.9  25.0         Sweden  \n",
       "111   71.5   185.7     3.601      18.5  23.0         Sweden  \n",
       "112   72.1   189.8     3.600      21.1  24.0         Sweden  \n",
       "\n",
       "[113 rows x 14 columns]"
      ]
     },
     "execution_count": 2,
     "metadata": {},
     "output_type": "execute_result"
    }
   ],
   "source": [
    "#importing dataset\n",
    "df=pd.read_csv('SPSS_cars_v2.csv')\n",
    "df"
   ]
  },
  {
   "cell_type": "code",
   "execution_count": null,
   "id": "c3a0cba7",
   "metadata": {
    "id": "c3a0cba7",
    "outputId": "ce979b28-1e6a-4afe-fcd6-6ddb69287563"
   },
   "outputs": [
    {
     "data": {
      "text/plain": [
       "array(['Japan', 'United States', 'Germany', 'Sweden'], dtype=object)"
      ]
     },
     "execution_count": 3,
     "metadata": {},
     "output_type": "execute_result"
    }
   ],
   "source": [
    "df.country.unique()\n",
    "#checking for the number of countries in dataset"
   ]
  },
  {
   "cell_type": "code",
   "execution_count": null,
   "id": "b36df477",
   "metadata": {
    "id": "b36df477",
    "outputId": "bc18992a-1f2e-4b24-9ddf-01571b38997f"
   },
   "outputs": [
    {
     "data": {
      "text/html": [
       "<div>\n",
       "<style scoped>\n",
       "    .dataframe tbody tr th:only-of-type {\n",
       "        vertical-align: middle;\n",
       "    }\n",
       "\n",
       "    .dataframe tbody tr th {\n",
       "        vertical-align: top;\n",
       "    }\n",
       "\n",
       "    .dataframe thead th {\n",
       "        text-align: right;\n",
       "    }\n",
       "</style>\n",
       "<table border=\"1\" class=\"dataframe\">\n",
       "  <thead>\n",
       "    <tr style=\"text-align: right;\">\n",
       "      <th></th>\n",
       "      <th>manufact</th>\n",
       "      <th>model</th>\n",
       "      <th>sales</th>\n",
       "      <th>resale</th>\n",
       "      <th>price</th>\n",
       "      <th>engine_s</th>\n",
       "      <th>horsepow</th>\n",
       "      <th>wheelbas</th>\n",
       "      <th>width</th>\n",
       "      <th>length</th>\n",
       "      <th>curb_wgt</th>\n",
       "      <th>fuel_cap</th>\n",
       "      <th>mpg</th>\n",
       "      <th>country</th>\n",
       "    </tr>\n",
       "  </thead>\n",
       "  <tbody>\n",
       "    <tr>\n",
       "      <th>0</th>\n",
       "      <td>Acura</td>\n",
       "      <td>Integra</td>\n",
       "      <td>16.92</td>\n",
       "      <td>16.360</td>\n",
       "      <td>21.5</td>\n",
       "      <td>1.8</td>\n",
       "      <td>140</td>\n",
       "      <td>101.2</td>\n",
       "      <td>67.3</td>\n",
       "      <td>172.4</td>\n",
       "      <td>2.639</td>\n",
       "      <td>13.2</td>\n",
       "      <td>28.0</td>\n",
       "      <td>Japan</td>\n",
       "    </tr>\n",
       "    <tr>\n",
       "      <th>1</th>\n",
       "      <td>Acura</td>\n",
       "      <td>TL</td>\n",
       "      <td>39.38</td>\n",
       "      <td>19.875</td>\n",
       "      <td>28.4</td>\n",
       "      <td>3.2</td>\n",
       "      <td>225</td>\n",
       "      <td>108.1</td>\n",
       "      <td>70.3</td>\n",
       "      <td>192.9</td>\n",
       "      <td>3.517</td>\n",
       "      <td>17.2</td>\n",
       "      <td>25.0</td>\n",
       "      <td>Japan</td>\n",
       "    </tr>\n",
       "    <tr>\n",
       "      <th>2</th>\n",
       "      <td>Acura</td>\n",
       "      <td>CL</td>\n",
       "      <td>14.11</td>\n",
       "      <td>18.225</td>\n",
       "      <td>NaN</td>\n",
       "      <td>3.2</td>\n",
       "      <td>225</td>\n",
       "      <td>106.9</td>\n",
       "      <td>70.6</td>\n",
       "      <td>192.0</td>\n",
       "      <td>3.470</td>\n",
       "      <td>17.2</td>\n",
       "      <td>26.0</td>\n",
       "      <td>Japan</td>\n",
       "    </tr>\n",
       "    <tr>\n",
       "      <th>3</th>\n",
       "      <td>Acura</td>\n",
       "      <td>RL</td>\n",
       "      <td>8.59</td>\n",
       "      <td>29.725</td>\n",
       "      <td>42.0</td>\n",
       "      <td>3.5</td>\n",
       "      <td>210</td>\n",
       "      <td>114.6</td>\n",
       "      <td>71.4</td>\n",
       "      <td>196.6</td>\n",
       "      <td>3.850</td>\n",
       "      <td>18.0</td>\n",
       "      <td>22.0</td>\n",
       "      <td>Japan</td>\n",
       "    </tr>\n",
       "    <tr>\n",
       "      <th>4</th>\n",
       "      <td>Cadillac</td>\n",
       "      <td>DeVille</td>\n",
       "      <td>63.73</td>\n",
       "      <td>22.525</td>\n",
       "      <td>39.9</td>\n",
       "      <td>4.6</td>\n",
       "      <td>275</td>\n",
       "      <td>115.3</td>\n",
       "      <td>74.5</td>\n",
       "      <td>207.2</td>\n",
       "      <td>3.978</td>\n",
       "      <td>18.5</td>\n",
       "      <td>22.0</td>\n",
       "      <td>United States</td>\n",
       "    </tr>\n",
       "    <tr>\n",
       "      <th>...</th>\n",
       "      <td>...</td>\n",
       "      <td>...</td>\n",
       "      <td>...</td>\n",
       "      <td>...</td>\n",
       "      <td>...</td>\n",
       "      <td>...</td>\n",
       "      <td>...</td>\n",
       "      <td>...</td>\n",
       "      <td>...</td>\n",
       "      <td>...</td>\n",
       "      <td>...</td>\n",
       "      <td>...</td>\n",
       "      <td>...</td>\n",
       "      <td>...</td>\n",
       "    </tr>\n",
       "    <tr>\n",
       "      <th>108</th>\n",
       "      <td>Volvo</td>\n",
       "      <td>V40</td>\n",
       "      <td>3.55</td>\n",
       "      <td>NaN</td>\n",
       "      <td>24.4</td>\n",
       "      <td>1.9</td>\n",
       "      <td>160</td>\n",
       "      <td>100.5</td>\n",
       "      <td>67.6</td>\n",
       "      <td>176.6</td>\n",
       "      <td>3.042</td>\n",
       "      <td>15.8</td>\n",
       "      <td>25.0</td>\n",
       "      <td>Sweden</td>\n",
       "    </tr>\n",
       "    <tr>\n",
       "      <th>109</th>\n",
       "      <td>Volvo</td>\n",
       "      <td>S70</td>\n",
       "      <td>15.25</td>\n",
       "      <td>NaN</td>\n",
       "      <td>27.5</td>\n",
       "      <td>2.4</td>\n",
       "      <td>168</td>\n",
       "      <td>104.9</td>\n",
       "      <td>69.3</td>\n",
       "      <td>185.9</td>\n",
       "      <td>3.208</td>\n",
       "      <td>17.9</td>\n",
       "      <td>25.0</td>\n",
       "      <td>Sweden</td>\n",
       "    </tr>\n",
       "    <tr>\n",
       "      <th>110</th>\n",
       "      <td>Volvo</td>\n",
       "      <td>V70</td>\n",
       "      <td>17.53</td>\n",
       "      <td>NaN</td>\n",
       "      <td>28.8</td>\n",
       "      <td>2.4</td>\n",
       "      <td>168</td>\n",
       "      <td>104.9</td>\n",
       "      <td>69.3</td>\n",
       "      <td>186.2</td>\n",
       "      <td>3.259</td>\n",
       "      <td>17.9</td>\n",
       "      <td>25.0</td>\n",
       "      <td>Sweden</td>\n",
       "    </tr>\n",
       "    <tr>\n",
       "      <th>111</th>\n",
       "      <td>Volvo</td>\n",
       "      <td>C70</td>\n",
       "      <td>3.49</td>\n",
       "      <td>NaN</td>\n",
       "      <td>45.5</td>\n",
       "      <td>2.3</td>\n",
       "      <td>236</td>\n",
       "      <td>104.9</td>\n",
       "      <td>71.5</td>\n",
       "      <td>185.7</td>\n",
       "      <td>3.601</td>\n",
       "      <td>18.5</td>\n",
       "      <td>23.0</td>\n",
       "      <td>Sweden</td>\n",
       "    </tr>\n",
       "    <tr>\n",
       "      <th>112</th>\n",
       "      <td>Volvo</td>\n",
       "      <td>S80</td>\n",
       "      <td>18.97</td>\n",
       "      <td>NaN</td>\n",
       "      <td>36.0</td>\n",
       "      <td>2.9</td>\n",
       "      <td>201</td>\n",
       "      <td>109.9</td>\n",
       "      <td>72.1</td>\n",
       "      <td>189.8</td>\n",
       "      <td>3.600</td>\n",
       "      <td>21.1</td>\n",
       "      <td>24.0</td>\n",
       "      <td>Sweden</td>\n",
       "    </tr>\n",
       "  </tbody>\n",
       "</table>\n",
       "<p>111 rows × 14 columns</p>\n",
       "</div>"
      ],
      "text/plain": [
       "     manufact    model  sales  resale  price  engine_s  horsepow  wheelbas  \\\n",
       "0       Acura  Integra  16.92  16.360   21.5       1.8       140     101.2   \n",
       "1       Acura       TL  39.38  19.875   28.4       3.2       225     108.1   \n",
       "2       Acura       CL  14.11  18.225    NaN       3.2       225     106.9   \n",
       "3       Acura       RL   8.59  29.725   42.0       3.5       210     114.6   \n",
       "4    Cadillac  DeVille  63.73  22.525   39.9       4.6       275     115.3   \n",
       "..        ...      ...    ...     ...    ...       ...       ...       ...   \n",
       "108     Volvo      V40   3.55     NaN   24.4       1.9       160     100.5   \n",
       "109     Volvo      S70  15.25     NaN   27.5       2.4       168     104.9   \n",
       "110     Volvo      V70  17.53     NaN   28.8       2.4       168     104.9   \n",
       "111     Volvo      C70   3.49     NaN   45.5       2.3       236     104.9   \n",
       "112     Volvo      S80  18.97     NaN   36.0       2.9       201     109.9   \n",
       "\n",
       "     width  length  curb_wgt  fuel_cap   mpg        country  \n",
       "0     67.3   172.4     2.639      13.2  28.0          Japan  \n",
       "1     70.3   192.9     3.517      17.2  25.0          Japan  \n",
       "2     70.6   192.0     3.470      17.2  26.0          Japan  \n",
       "3     71.4   196.6     3.850      18.0  22.0          Japan  \n",
       "4     74.5   207.2     3.978      18.5  22.0  United States  \n",
       "..     ...     ...       ...       ...   ...            ...  \n",
       "108   67.6   176.6     3.042      15.8  25.0         Sweden  \n",
       "109   69.3   185.9     3.208      17.9  25.0         Sweden  \n",
       "110   69.3   186.2     3.259      17.9  25.0         Sweden  \n",
       "111   71.5   185.7     3.601      18.5  23.0         Sweden  \n",
       "112   72.1   189.8     3.600      21.1  24.0         Sweden  \n",
       "\n",
       "[111 rows x 14 columns]"
      ]
     },
     "execution_count": 4,
     "metadata": {},
     "output_type": "execute_result"
    }
   ],
   "source": [
    "df = df.dropna(subset=['mpg'])\n",
    "df\n",
    "#droppping null values "
   ]
  },
  {
   "cell_type": "markdown",
   "id": "74a0feb1",
   "metadata": {
    "id": "74a0feb1"
   },
   "source": [
    "# Histograms"
   ]
  },
  {
   "cell_type": "code",
   "execution_count": null,
   "id": "6b885f0c",
   "metadata": {
    "id": "6b885f0c",
    "outputId": "c5caa0d7-a1c9-4976-f486-62bcf2811fc2"
   },
   "outputs": [
    {
     "data": {
      "text/plain": [
       "array([[<AxesSubplot:title={'center':'Germany'}>,\n",
       "        <AxesSubplot:title={'center':'Japan'}>],\n",
       "       [<AxesSubplot:title={'center':'Sweden'}>,\n",
       "        <AxesSubplot:title={'center':'United States'}>]], dtype=object)"
      ]
     },
     "execution_count": 5,
     "metadata": {},
     "output_type": "execute_result"
    },
    {
     "data": {
      "image/png": "[encoded data removed]",
      "text/plain": [
       "<Figure size 432x288 with 4 Axes>"
      ]
     },
     "metadata": {
      "needs_background": "light"
     },
     "output_type": "display_data"
    }
   ],
   "source": [
    "df.hist(by=\"country\", column=\"mpg\",bins=5)"
   ]
  },
  {
   "cell_type": "markdown",
   "id": "cbef1d18",
   "metadata": {
    "id": "cbef1d18"
   },
   "source": [
    "# Graph - Side by Side Box Plots"
   ]
  },
  {
   "cell_type": "code",
   "execution_count": null,
   "id": "f3d07a55",
   "metadata": {
    "id": "f3d07a55",
    "outputId": "6fa196c7-b9ac-44f6-9099-fe5d862a20ca"
   },
   "outputs": [
    {
     "name": "stderr",
     "output_type": "stream",
     "text": [
      "/var/folders/4y/bd3y_y3d23l1zwb_2qjy46t80000gn/T/ipykernel_39386/2919339757.py:2: UserWarning: When passing multiple axes, sharex and sharey are ignored. These settings must be specified when creating axes.\n",
      "  df.boxplot(['price','sales','resale','horsepow'], 'country', axs)\n"
     ]
    },
    {
     "data": {
      "text/plain": [
       "array([<AxesSubplot:title={'center':'price'}, xlabel='country'>,\n",
       "       <AxesSubplot:title={'center':'sales'}, xlabel='country'>,\n",
       "       <AxesSubplot:title={'center':'resale'}, xlabel='country'>,\n",
       "       <AxesSubplot:title={'center':'horsepow'}, xlabel='country'>],\n",
       "      dtype=object)"
      ]
     },
     "execution_count": 7,
     "metadata": {},
     "output_type": "execute_result"
    },
    {
     "data": {
      "image/png": "[encoded data removed]",
      "text/plain": [
       "<Figure size 1440x360 with 4 Axes>"
      ]
     },
     "metadata": {
      "needs_background": "light"
     },
     "output_type": "display_data"
    }
   ],
   "source": [
    "fig, axs = plt.subplots(1,len(df.country.unique()),figsize=(20,  5), sharey=False)\n",
    "df.boxplot(['price','sales','resale','horsepow'], 'country', axs)"
   ]
  },
  {
   "cell_type": "markdown",
   "id": "f29c8140",
   "metadata": {
    "id": "f29c8140"
   },
   "source": [
    "# Scatter Plots"
   ]
  },
  {
   "cell_type": "code",
   "execution_count": null,
   "id": "7e873720",
   "metadata": {
    "id": "7e873720"
   },
   "outputs": [],
   "source": [
    "df_Germany= df[df['country'] == 'Germany']\n",
    "df_Japan=df[df['country'] == 'Japan']\n",
    "df_Sweden=df[df['country'] == 'Sweden']\n",
    "df_United_States=df[df['country'] == 'United States']"
   ]
  },
  {
   "cell_type": "code",
   "execution_count": null,
   "id": "366f421e",
   "metadata": {
    "id": "366f421e",
    "outputId": "2244d461-c9ff-492a-d872-d88059f9c62e"
   },
   "outputs": [
    {
     "data": {
      "image/png": "[encoded data removed]",
      "text/plain": [
       "<Figure size 720x432 with 4 Axes>"
      ]
     },
     "metadata": {
      "needs_background": "light"
     },
     "output_type": "display_data"
    }
   ],
   "source": [
    "plt.rcParams[\"figure.figsize\"] = (10,6) \n",
    "\n",
    "\n",
    "plt.subplot(2,2,1)\n",
    "x1=[df_Germany['width']]\n",
    "y1=[df_Germany['length']]\n",
    "plt.scatter(x1,y1,c='r')\n",
    "plt.title('Germany Width vs. Lenght')\n",
    "plt.grid()\n",
    "\n",
    "\n",
    "plt.subplot(2,2,2)\n",
    "x2=[df_Japan['width']]\n",
    "y2=[df_Japan['length']]\n",
    "plt.scatter(x2,y2,c='g')\n",
    "plt.title('Japan Width vs. Lenght')\n",
    "plt.grid()\n",
    "\n",
    "\n",
    "plt.subplot(2,2,3)\n",
    "x3=[df_Sweden['width']]\n",
    "y3=[df_Sweden['length']]\n",
    "plt.scatter(x3,y3,c='b')\n",
    "plt.title('Sweden Width vs. Lenght')\n",
    "plt.grid()\n",
    "\n",
    "\n",
    "plt.subplot(2,2,4)\n",
    "x4=[df_United_States['width']]\n",
    "y4=[df_United_States['length']]\n",
    "plt.scatter(x4,y4,c='y')\n",
    "plt.title('United States Width vs. Lenght')\n",
    "plt.grid()"
   ]
  },
  {
   "cell_type": "markdown",
   "id": "08ecbad7",
   "metadata": {
    "id": "08ecbad7"
   },
   "source": [
    "# Bar Chart"
   ]
  },
  {
   "cell_type": "code",
   "execution_count": null,
   "id": "eed5c297",
   "metadata": {
    "id": "eed5c297"
   },
   "outputs": [],
   "source": [
    "model_count= df_United_States.groupby('manufact')['model'].nunique().rename_axis('manufacturer').reset_index(name='counts')"
   ]
  },
  {
   "cell_type": "code",
   "execution_count": null,
   "id": "72a8609e",
   "metadata": {
    "id": "72a8609e",
    "outputId": "bf82b3a6-730c-4e71-c503-c919e1121bc3"
   },
   "outputs": [
    {
     "data": {
      "text/html": [
       "<div>\n",
       "<style scoped>\n",
       "    .dataframe tbody tr th:only-of-type {\n",
       "        vertical-align: middle;\n",
       "    }\n",
       "\n",
       "    .dataframe tbody tr th {\n",
       "        vertical-align: top;\n",
       "    }\n",
       "\n",
       "    .dataframe thead th {\n",
       "        text-align: right;\n",
       "    }\n",
       "</style>\n",
       "<table border=\"1\" class=\"dataframe\">\n",
       "  <thead>\n",
       "    <tr style=\"text-align: right;\">\n",
       "      <th></th>\n",
       "      <th>manufacturer</th>\n",
       "      <th>counts</th>\n",
       "    </tr>\n",
       "  </thead>\n",
       "  <tbody>\n",
       "    <tr>\n",
       "      <th>0</th>\n",
       "      <td>Cadillac</td>\n",
       "      <td>5</td>\n",
       "    </tr>\n",
       "    <tr>\n",
       "      <th>1</th>\n",
       "      <td>Chevrolet</td>\n",
       "      <td>9</td>\n",
       "    </tr>\n",
       "    <tr>\n",
       "      <th>2</th>\n",
       "      <td>Chrysler</td>\n",
       "      <td>6</td>\n",
       "    </tr>\n",
       "    <tr>\n",
       "      <th>3</th>\n",
       "      <td>Dodge</td>\n",
       "      <td>10</td>\n",
       "    </tr>\n",
       "    <tr>\n",
       "      <th>4</th>\n",
       "      <td>Ford</td>\n",
       "      <td>11</td>\n",
       "    </tr>\n",
       "    <tr>\n",
       "      <th>5</th>\n",
       "      <td>Oldsmobile</td>\n",
       "      <td>5</td>\n",
       "    </tr>\n",
       "    <tr>\n",
       "      <th>6</th>\n",
       "      <td>Pontiac</td>\n",
       "      <td>6</td>\n",
       "    </tr>\n",
       "  </tbody>\n",
       "</table>\n",
       "</div>"
      ],
      "text/plain": [
       "  manufacturer  counts\n",
       "0     Cadillac       5\n",
       "1    Chevrolet       9\n",
       "2     Chrysler       6\n",
       "3        Dodge      10\n",
       "4         Ford      11\n",
       "5   Oldsmobile       5\n",
       "6      Pontiac       6"
      ]
     },
     "execution_count": 13,
     "metadata": {},
     "output_type": "execute_result"
    }
   ],
   "source": [
    "model_count\n"
   ]
  },
  {
   "cell_type": "code",
   "execution_count": null,
   "id": "bc24d0a2",
   "metadata": {
    "id": "bc24d0a2",
    "outputId": "eb3b064f-c24b-43fd-cdc5-6cca098af8af"
   },
   "outputs": [
    {
     "data": {
      "image/png": "[encoded data removed]",
      "text/plain": [
       "<Figure size 720x432 with 1 Axes>"
      ]
     },
     "metadata": {
      "needs_background": "light"
     },
     "output_type": "display_data"
    }
   ],
   "source": [
    "colors = ['red', 'orange', 'yellow', 'green', 'blue','navy','purple']\n",
    "plt.bar(model_count['manufacturer'], model_count['counts'], color=colors)\n",
    "plt.title('Amount of Models per Manufacturer in the United States', fontsize=14)\n",
    "plt.xlabel('Manufacturer', fontsize=14)\n",
    "plt.ylabel('Amount of Models', fontsize=14)\n",
    "plt.grid(True)\n",
    "plt.show()"
   ]
  },
  {
   "cell_type": "markdown",
   "id": "b019e9f6",
   "metadata": {
    "id": "b019e9f6"
   },
   "source": [
    "Question 5: Create a bar chart similar to Q4 – however this time include all the countries. This should be a single bar chart (a single figure and subplot). Differentiate the countries by color and make sure the manufacturer’s name is visible under each bar. The expected output should look like the figure below."
   ]
  },
  {
   "cell_type": "code",
   "execution_count": null,
   "id": "6a5bd96f",
   "metadata": {
    "id": "6a5bd96f",
    "outputId": "ff1623e4-8ddb-40e5-dadf-dd07961ff44b"
   },
   "outputs": [
    {
     "data": {
      "text/plain": [
       "country        manufact     \n",
       "Germany        Mercedes-Benz     9\n",
       "               Volkswagen        6\n",
       "Japan          Acura             4\n",
       "               Honda             5\n",
       "               Lexus             6\n",
       "               Mitsubishi        7\n",
       "               Nissan            7\n",
       "               Toyota            9\n",
       "Sweden         Volvo             6\n",
       "United States  Cadillac          5\n",
       "               Chevrolet         9\n",
       "               Chrysler          6\n",
       "               Dodge            10\n",
       "               Ford             11\n",
       "               Oldsmobile        5\n",
       "               Pontiac           6\n",
       "Name: model, dtype: int64"
      ]
     },
     "execution_count": 18,
     "metadata": {},
     "output_type": "execute_result"
    }
   ],
   "source": [
    "bonjour= df.groupby(['country','manufact'])['model'].nunique()\n",
    "bonjour"
   ]
  },
  {
   "cell_type": "code",
   "execution_count": null,
   "id": "d24586ad",
   "metadata": {
    "id": "d24586ad"
   },
   "outputs": [],
   "source": [
    "bonjour2=pd.DataFrame(bonjour)\n",
    "bonjour2=bonjour2.reset_index()"
   ]
  },
  {
   "cell_type": "code",
   "execution_count": null,
   "id": "5e84b39f",
   "metadata": {
    "id": "5e84b39f",
    "outputId": "2a135d6f-458f-4b3b-b85f-87c629d21b58"
   },
   "outputs": [
    {
     "data": {
      "text/plain": [
       "<AxesSubplot:xlabel='manufact', ylabel='model'>"
      ]
     },
     "execution_count": 20,
     "metadata": {},
     "output_type": "execute_result"
    },
    {
     "data": {
      "image/png": "[encoded data removed]",
      "text/plain": [
       "<Figure size 1584x576 with 1 Axes>"
      ]
     },
     "metadata": {},
     "output_type": "display_data"
    }
   ],
   "source": [
    "import seaborn as sns\n",
    "sns.set(rc={'figure.figsize':(22,8)})\n",
    "sns.barplot(y='model',x='manufact',hue='country',data=bonjour2)"
   ]
  },
  {
   "cell_type": "markdown",
   "id": "613126a0",
   "metadata": {
    "id": "613126a0"
   },
   "source": [
    "### Line Plot"
   ]
  },
  {
   "cell_type": "markdown",
   "id": "6432fbc5",
   "metadata": {
    "id": "6432fbc5"
   },
   "source": [
    "I am going to make a chart that compares the resale price with the purchase price\n",
    "To determine which car I should by based on the average return of each manufacturer. "
   ]
  },
  {
   "cell_type": "markdown",
   "id": "4880c35d",
   "metadata": {
    "id": "4880c35d"
   },
   "source": [
    "Line Plot\n",
    "resale\n",
    "price"
   ]
  },
  {
   "cell_type": "code",
   "execution_count": null,
   "id": "f402d39c",
   "metadata": {
    "id": "f402d39c"
   },
   "outputs": [],
   "source": [
    "line_plot=df_United_States[['manufact','resale','price']]\n",
    "line_plot=line_plot.dropna()"
   ]
  },
  {
   "cell_type": "code",
   "execution_count": null,
   "id": "d11a1e92",
   "metadata": {
    "id": "d11a1e92"
   },
   "outputs": [],
   "source": [
    "manu_df=line_plot.groupby(\"manufact\").mean()\n",
    "manu_df=manu_df.reset_index()"
   ]
  },
  {
   "cell_type": "code",
   "execution_count": null,
   "id": "cf031699",
   "metadata": {
    "id": "cf031699",
    "outputId": "3ad2625c-a197-4c77-a946-924eb9a0d520"
   },
   "outputs": [
    {
     "data": {
      "text/html": [
       "<div>\n",
       "<style scoped>\n",
       "    .dataframe tbody tr th:only-of-type {\n",
       "        vertical-align: middle;\n",
       "    }\n",
       "\n",
       "    .dataframe tbody tr th {\n",
       "        vertical-align: top;\n",
       "    }\n",
       "\n",
       "    .dataframe thead th {\n",
       "        text-align: right;\n",
       "    }\n",
       "</style>\n",
       "<table border=\"1\" class=\"dataframe\">\n",
       "  <thead>\n",
       "    <tr style=\"text-align: right;\">\n",
       "      <th></th>\n",
       "      <th>manufact</th>\n",
       "      <th>resale</th>\n",
       "      <th>price</th>\n",
       "    </tr>\n",
       "  </thead>\n",
       "  <tbody>\n",
       "    <tr>\n",
       "      <th>0</th>\n",
       "      <td>Cadillac</td>\n",
       "      <td>23.393750</td>\n",
       "      <td>38.765000</td>\n",
       "    </tr>\n",
       "    <tr>\n",
       "      <th>1</th>\n",
       "      <td>Chevrolet</td>\n",
       "      <td>13.230625</td>\n",
       "      <td>20.166250</td>\n",
       "    </tr>\n",
       "    <tr>\n",
       "      <th>2</th>\n",
       "      <td>Chrysler</td>\n",
       "      <td>14.046000</td>\n",
       "      <td>22.282000</td>\n",
       "    </tr>\n",
       "    <tr>\n",
       "      <th>3</th>\n",
       "      <td>Dodge</td>\n",
       "      <td>17.358889</td>\n",
       "      <td>24.173333</td>\n",
       "    </tr>\n",
       "    <tr>\n",
       "      <th>4</th>\n",
       "      <td>Ford</td>\n",
       "      <td>12.960000</td>\n",
       "      <td>21.923000</td>\n",
       "    </tr>\n",
       "    <tr>\n",
       "      <th>5</th>\n",
       "      <td>Oldsmobile</td>\n",
       "      <td>16.573750</td>\n",
       "      <td>27.832500</td>\n",
       "    </tr>\n",
       "    <tr>\n",
       "      <th>6</th>\n",
       "      <td>Pontiac</td>\n",
       "      <td>13.824000</td>\n",
       "      <td>22.414000</td>\n",
       "    </tr>\n",
       "  </tbody>\n",
       "</table>\n",
       "</div>"
      ],
      "text/plain": [
       "     manufact     resale      price\n",
       "0    Cadillac  23.393750  38.765000\n",
       "1   Chevrolet  13.230625  20.166250\n",
       "2    Chrysler  14.046000  22.282000\n",
       "3       Dodge  17.358889  24.173333\n",
       "4        Ford  12.960000  21.923000\n",
       "5  Oldsmobile  16.573750  27.832500\n",
       "6     Pontiac  13.824000  22.414000"
      ]
     },
     "execution_count": 33,
     "metadata": {},
     "output_type": "execute_result"
    }
   ],
   "source": [
    "manu_df"
   ]
  },
  {
   "cell_type": "code",
   "execution_count": null,
   "id": "eef437b8",
   "metadata": {
    "id": "eef437b8",
    "outputId": "075fd71b-d1fb-4221-8c25-51daa06ca735"
   },
   "outputs": [
    {
     "data": {
      "image/png": "[encoded data removed]",
      "text/plain": [
       "<Figure size 720x432 with 1 Axes>"
      ]
     },
     "metadata": {},
     "output_type": "display_data"
    }
   ],
   "source": [
    "manu_df.plot(x=\"manufact\", y=[\"resale\", \"price\"])\n",
    "plt.show()\n",
    "#graphed this to see the distribution between price and resale\n",
    "# we can see that cadillac is the most expensive car but its resale price is also the highest\n",
    "# all the brands have parallel price to resale."
   ]
  },
  {
   "cell_type": "code",
   "execution_count": null,
   "id": "4b9dab96",
   "metadata": {
    "id": "4b9dab96",
    "outputId": "5d58da2a-f800-4c21-abcd-99a3f1fa88a1"
   },
   "outputs": [
    {
     "data": {
      "text/html": [
       "<div>\n",
       "<style scoped>\n",
       "    .dataframe tbody tr th:only-of-type {\n",
       "        vertical-align: middle;\n",
       "    }\n",
       "\n",
       "    .dataframe tbody tr th {\n",
       "        vertical-align: top;\n",
       "    }\n",
       "\n",
       "    .dataframe thead th {\n",
       "        text-align: right;\n",
       "    }\n",
       "</style>\n",
       "<table border=\"1\" class=\"dataframe\">\n",
       "  <thead>\n",
       "    <tr style=\"text-align: right;\">\n",
       "      <th></th>\n",
       "      <th>manufact</th>\n",
       "      <th>resale</th>\n",
       "      <th>price</th>\n",
       "      <th>average_profit</th>\n",
       "    </tr>\n",
       "  </thead>\n",
       "  <tbody>\n",
       "    <tr>\n",
       "      <th>0</th>\n",
       "      <td>Cadillac</td>\n",
       "      <td>23.393750</td>\n",
       "      <td>38.765000</td>\n",
       "      <td>15.371250</td>\n",
       "    </tr>\n",
       "    <tr>\n",
       "      <th>1</th>\n",
       "      <td>Chevrolet</td>\n",
       "      <td>13.230625</td>\n",
       "      <td>20.166250</td>\n",
       "      <td>6.935625</td>\n",
       "    </tr>\n",
       "    <tr>\n",
       "      <th>2</th>\n",
       "      <td>Chrysler</td>\n",
       "      <td>14.046000</td>\n",
       "      <td>22.282000</td>\n",
       "      <td>8.236000</td>\n",
       "    </tr>\n",
       "    <tr>\n",
       "      <th>3</th>\n",
       "      <td>Dodge</td>\n",
       "      <td>17.358889</td>\n",
       "      <td>24.173333</td>\n",
       "      <td>6.814444</td>\n",
       "    </tr>\n",
       "    <tr>\n",
       "      <th>4</th>\n",
       "      <td>Ford</td>\n",
       "      <td>12.960000</td>\n",
       "      <td>21.923000</td>\n",
       "      <td>8.963000</td>\n",
       "    </tr>\n",
       "    <tr>\n",
       "      <th>5</th>\n",
       "      <td>Oldsmobile</td>\n",
       "      <td>16.573750</td>\n",
       "      <td>27.832500</td>\n",
       "      <td>11.258750</td>\n",
       "    </tr>\n",
       "    <tr>\n",
       "      <th>6</th>\n",
       "      <td>Pontiac</td>\n",
       "      <td>13.824000</td>\n",
       "      <td>22.414000</td>\n",
       "      <td>8.590000</td>\n",
       "    </tr>\n",
       "  </tbody>\n",
       "</table>\n",
       "</div>"
      ],
      "text/plain": [
       "     manufact     resale      price  average_profit\n",
       "0    Cadillac  23.393750  38.765000       15.371250\n",
       "1   Chevrolet  13.230625  20.166250        6.935625\n",
       "2    Chrysler  14.046000  22.282000        8.236000\n",
       "3       Dodge  17.358889  24.173333        6.814444\n",
       "4        Ford  12.960000  21.923000        8.963000\n",
       "5  Oldsmobile  16.573750  27.832500       11.258750\n",
       "6     Pontiac  13.824000  22.414000        8.590000"
      ]
     },
     "execution_count": 52,
     "metadata": {},
     "output_type": "execute_result"
    }
   ],
   "source": [
    "manu_df['average_profit']=manu_df['price']-manu_df['resale']\n",
    "manu_df"
   ]
  },
  {
   "cell_type": "code",
   "execution_count": null,
   "id": "31587244",
   "metadata": {
    "id": "31587244",
    "outputId": "071af2e4-c29a-459e-902b-7cdbc51c597c"
   },
   "outputs": [
    {
     "data": {
      "image/png": "[encoded data removed]",
      "text/plain": [
       "<Figure size 720x432 with 1 Axes>"
      ]
     },
     "metadata": {},
     "output_type": "display_data"
    }
   ],
   "source": [
    "manu_df.plot(x=\"manufact\", y=[\"average_profit\"])\n",
    "plt.show()"
   ]
  }
 ],
 "metadata": {
  "colab": {
   "include_colab_link": true,
   "provenance": []
  },
  "kernelspec": {
   "display_name": "Python 3 (ipykernel)",
   "language": "python",
   "name": "python3"
  },
  "language_info": {
   "codemirror_mode": {
    "name": "ipython",
    "version": 3
   },
   "file_extension": ".py",
   "mimetype": "text/x-python",
   "name": "python",
   "nbconvert_exporter": "python",
   "pygments_lexer": "ipython3",
   "version": "3.10.9"
  }
 },
 "nbformat": 4,
 "nbformat_minor": 5
}
